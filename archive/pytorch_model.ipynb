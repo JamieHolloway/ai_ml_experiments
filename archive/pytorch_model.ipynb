{
 "cells": [
  {
   "cell_type": "code",
   "execution_count": 3,
   "id": "7faeffae",
   "metadata": {},
   "outputs": [],
   "source": [
    "import matplotlib.pyplot as plt\n",
    "import torch\n",
    "import torchvision\n",
    "import torchvision.transforms as transforms\n",
    "import matplotlib.pyplot as plt"
   ]
  },
  {
   "cell_type": "code",
   "execution_count": 4,
   "id": "0eabdfc9",
   "metadata": {},
   "outputs": [
    {
     "name": "stdout",
     "output_type": "stream",
     "text": [
      "Files already downloaded and verified\n",
      "Files already downloaded and verified\n"
     ]
    }
   ],
   "source": [
    "transform = transforms.Compose([transforms.ToTensor(), transforms.Normalize((0.5, 0.5, 0.5), (0.5, 0.5, 0.5))])\n",
    "\n",
    "trainset = torchvision.datasets.CIFAR10(root='./data', train=True, download=True, transform=transform)\n",
    "trainloader = torch.utils.data.DataLoader(trainset, batch_size=4, shuffle=True, num_workers=2)\n",
    "\n",
    "testset = torchvision.datasets.CIFAR10(root='./data', train=False, download=True, transform=transform)\n",
    "testloader = torch.utils.data.DataLoader(testset, batch_size=4, shuffle=False, num_workers=2)\n",
    "\n",
    "import torch.nn as nn\n",
    "\n",
    "class Net(nn.Module):\n",
    "    def __init__(self):\n",
    "        super(Net, self).__init__()\n",
    "        self.conv1 = nn.Conv2d(3, 6, 5)\n",
    "        self.pool = nn.MaxPool2d(2, 2)\n",
    "        self.conv2 = nn.Conv2d(6, 16, 5)\n",
    "        self.fc1 = nn.Linear(16 * 5 * 5, 120)\n",
    "        self.fc2 = nn.Linear(120, 84)\n",
    "        self.fc3 = nn.Linear(84, 10)\n",
    "\n",
    "    def forward(self, x):\n",
    "        x = self.pool(F.relu(self.conv1(x)))\n",
    "        x = self.pool(F.relu(self.conv2(x)))\n",
    "        x = x.view(-1, 16 * 5 * 5)\n",
    "        x = F.relu(self.fc1(x))\n",
    "        x = F.relu(self.fc2(x))\n",
    "        x = self.fc3(x)\n",
    "        return x\n",
    "\n",
    "net = Net()"
   ]
  },
  {
   "cell_type": "code",
   "execution_count": 7,
   "id": "c13bb66d",
   "metadata": {},
   "outputs": [
    {
     "name": "stdout",
     "output_type": "stream",
     "text": [
      "[Epoch 1, Batch 2000] loss: 2.164\n",
      "[Epoch 1, Batch 4000] loss: 1.813\n",
      "[Epoch 1, Batch 6000] loss: 1.659\n",
      "[Epoch 1, Batch 8000] loss: 1.579\n",
      "[Epoch 1, Batch 10000] loss: 1.537\n",
      "[Epoch 1, Batch 12000] loss: 1.486\n",
      "[Epoch 2, Batch 2000] loss: 1.402\n",
      "[Epoch 2, Batch 4000] loss: 1.385\n",
      "[Epoch 2, Batch 6000] loss: 1.363\n",
      "[Epoch 2, Batch 8000] loss: 1.332\n",
      "[Epoch 2, Batch 10000] loss: 1.295\n",
      "[Epoch 2, Batch 12000] loss: 1.295\n",
      "[Epoch 3, Batch 2000] loss: 1.235\n",
      "[Epoch 3, Batch 4000] loss: 1.242\n",
      "[Epoch 3, Batch 6000] loss: 1.203\n",
      "[Epoch 3, Batch 8000] loss: 1.183\n",
      "[Epoch 3, Batch 10000] loss: 1.210\n",
      "[Epoch 3, Batch 12000] loss: 1.180\n",
      "[Epoch 4, Batch 2000] loss: 1.132\n",
      "[Epoch 4, Batch 4000] loss: 1.140\n",
      "[Epoch 4, Batch 6000] loss: 1.117\n",
      "[Epoch 4, Batch 8000] loss: 1.123\n",
      "[Epoch 4, Batch 10000] loss: 1.103\n",
      "[Epoch 4, Batch 12000] loss: 1.119\n",
      "[Epoch 5, Batch 2000] loss: 1.049\n",
      "[Epoch 5, Batch 4000] loss: 1.043\n",
      "[Epoch 5, Batch 6000] loss: 1.052\n",
      "[Epoch 5, Batch 8000] loss: 1.069\n",
      "[Epoch 5, Batch 10000] loss: 1.046\n",
      "[Epoch 5, Batch 12000] loss: 1.064\n",
      "[Epoch 6, Batch 2000] loss: 0.963\n",
      "[Epoch 6, Batch 4000] loss: 0.994\n",
      "[Epoch 6, Batch 6000] loss: 0.995\n",
      "[Epoch 6, Batch 8000] loss: 0.995\n",
      "[Epoch 6, Batch 10000] loss: 1.024\n",
      "[Epoch 6, Batch 12000] loss: 1.027\n",
      "[Epoch 7, Batch 2000] loss: 0.928\n",
      "[Epoch 7, Batch 4000] loss: 0.940\n",
      "[Epoch 7, Batch 6000] loss: 0.949\n",
      "[Epoch 7, Batch 8000] loss: 0.942\n",
      "[Epoch 7, Batch 10000] loss: 0.984\n",
      "[Epoch 7, Batch 12000] loss: 0.982\n",
      "[Epoch 8, Batch 2000] loss: 0.891\n",
      "[Epoch 8, Batch 4000] loss: 0.897\n",
      "[Epoch 8, Batch 6000] loss: 0.931\n",
      "[Epoch 8, Batch 8000] loss: 0.933\n",
      "[Epoch 8, Batch 10000] loss: 0.932\n",
      "[Epoch 8, Batch 12000] loss: 0.935\n",
      "[Epoch 9, Batch 2000] loss: 0.815\n",
      "[Epoch 9, Batch 4000] loss: 0.864\n",
      "[Epoch 9, Batch 6000] loss: 0.892\n",
      "[Epoch 9, Batch 8000] loss: 0.899\n",
      "[Epoch 9, Batch 10000] loss: 0.902\n",
      "[Epoch 9, Batch 12000] loss: 0.908\n",
      "[Epoch 10, Batch 2000] loss: 0.776\n",
      "[Epoch 10, Batch 4000] loss: 0.817\n",
      "[Epoch 10, Batch 6000] loss: 0.867\n",
      "[Epoch 10, Batch 8000] loss: 0.868\n",
      "[Epoch 10, Batch 10000] loss: 0.867\n",
      "[Epoch 10, Batch 12000] loss: 0.896\n",
      "Finished Training\n"
     ]
    }
   ],
   "source": [
    "import torch.optim as optim\n",
    "import torch.nn.functional as F\n",
    "\n",
    "criterion = nn.CrossEntropyLoss()\n",
    "optimizer = optim.SGD(net.parameters(), lr=0.001, momentum=0.9)\n",
    "\n",
    "for epoch in range(10):\n",
    "    running_loss = 0.0\n",
    "    for i, data in enumerate(trainloader, 0):\n",
    "        inputs, labels = data\n",
    "        optimizer.zero_grad()\n",
    "        outputs = net(inputs)\n",
    "        loss = criterion(outputs, labels)\n",
    "        loss.backward()\n",
    "        optimizer.step()\n",
    "\n",
    "        running_loss += loss.item()\n",
    "        if i % 2000 == 1999:\n",
    "            print(f'[Epoch {epoch + 1}, Batch {i + 1}] loss: {running_loss / 2000:.3f}')\n",
    "            running_loss = 0.0\n",
    "\n",
    "print('Finished Training')"
   ]
  },
  {
   "cell_type": "code",
   "execution_count": null,
   "id": "601b8bc1",
   "metadata": {},
   "outputs": [],
   "source": [
    "correct = 0\n",
    "total = 0\n",
    "with torch.no_grad():\n",
    "    for data in testloader:\n",
    "        images, labels = data\n",
    "        outputs = net(images)\n",
    "        _, predicted = torch.max(outputs.data, 1)\n",
    "        total += labels.size(0)\n",
    "        correct += (predicted == labels).sum().item()\n",
    "\n",
    "print(f'Accuracy of the network on the 10000 test images: {100 * correct / total} %')"
   ]
  },
  {
   "cell_type": "code",
   "execution_count": null,
   "id": "e56791e0",
   "metadata": {},
   "outputs": [],
   "source": [
    "PATH = './cifar_net.pth'\n",
    "torch.save(net.state_dict(), PATH)"
   ]
  },
  {
   "cell_type": "code",
   "execution_count": null,
   "id": "01a4b592",
   "metadata": {},
   "outputs": [],
   "source": [
    "net = Net()\n",
    "net.load_state_dict(torch.load(PATH))"
   ]
  }
 ],
 "metadata": {
  "kernelspec": {
   "display_name": "Python 3",
   "language": "python",
   "name": "python3"
  },
  "language_info": {
   "codemirror_mode": {
    "name": "ipython",
    "version": 3
   },
   "file_extension": ".py",
   "mimetype": "text/x-python",
   "name": "python",
   "nbconvert_exporter": "python",
   "pygments_lexer": "ipython3",
   "version": "3.12.3"
  }
 },
 "nbformat": 4,
 "nbformat_minor": 5
}
